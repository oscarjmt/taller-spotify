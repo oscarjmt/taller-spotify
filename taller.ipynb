{
 "cells": [
  {
   "cell_type": "markdown",
   "id": "strong-housing",
   "metadata": {},
   "source": [
    "# Analiza tu música de Spotify\n",
    "A continuación podrás ver un ejemplo de cómo se puede utilizar la ciencia de datos para conocer tus gustos musicales, escpecíficamente para conocer que tienen de similar las canciones que escuchas. El objetivo de este taller es poder separar en grupos de canciones similares la música que tienes en tus me gusta, para finalmente analizar las características que tiene cada uno de estos grupos.\n",
    "\n",
    "\n",
    "![Portada](https://entrackr.com/storage/2019/01/spotify-.jpg)"
   ]
  },
  {
   "cell_type": "markdown",
   "id": "7f654fe4",
   "metadata": {},
   "source": [
    "## Extracción de Datos"
   ]
  },
  {
   "cell_type": "markdown",
   "id": "3dc6d30c",
   "metadata": {},
   "source": [
    "En la primera celda se importan las librerías que se utilizarán para todo el proceso."
   ]
  },
  {
   "cell_type": "code",
   "execution_count": null,
   "id": "0cb90a0b-0455-46b1-8d75-396d6425470e",
   "metadata": {
    "executionTime": 60,
    "lastSuccessfullyExecutedCode": "import pandas as pd\nimport numpy as np\nimport matplotlib.pyplot as plt\nimport seaborn as sns\nimport xgboost as xgb\nfrom sklearn.model_selection import train_test_split\nfrom sklearn.metrics import mean_squared_error, r2_score, classification_report, silhouette_score\nfrom sklearn.cluster import KMeans\nfrom sklearn.preprocessing import StandardScaler\nfrom yellowbrick.cluster import KElbowVisualizer, SilhouetteVisualizer"
   },
   "outputs": [],
   "source": [
    "#Conexión a Spotify\n",
    "import spotipy\n",
    "from spotipy.oauth2 import SpotifyClientCredentials, SpotifyOAuth\n",
    "\n",
    "#Manipulación de Datos\n",
    "import pandas as pd\n",
    "import numpy as np\n",
    "\n",
    "#Limpieza de Datos\n",
    "import re\n",
    "from googletrans import Translator\n",
    "\n",
    "#Maachine Learning\n",
    "from sklearn.metrics import silhouette_score\n",
    "from sklearn.cluster import KMeans\n",
    "from sklearn.preprocessing import StandardScaler\n",
    "\n",
    "#Visualización de Datos\n",
    "import matplotlib.pyplot as plt"
   ]
  },
  {
   "cell_type": "markdown",
   "id": "991ebaf3",
   "metadata": {},
   "source": [
    "En la siguiente celda se realiza la conexión a Spotify, donde se abrirá una pestaña para que inicies sesión con tu cuenta.\n",
    "\n",
    "<img src='https://d500.epimg.net/cincodias/imagenes/2022/02/11/lifestyle/1644599664_740393_1644599921_noticia_normal.jpg' width=300 align='left'>"
   ]
  },
  {
   "cell_type": "code",
   "execution_count": null,
   "id": "a7ea2035",
   "metadata": {},
   "outputs": [],
   "source": [
    "username = input(\"Ingrese su usuario: \")\n",
    "client_id = \"\"\n",
    "client_secret = \"\"\n",
    "redirect_uri = \"http://localhost:7777/callback\"\n",
    "scope = 'user-library-read playlist-modify-private playlist-modify-public'\n",
    "\n",
    "auth = SpotifyOAuth(username=username, \n",
    "                                   scope=scope, \n",
    "                                   client_id=client_id,   \n",
    "                                   client_secret=client_secret,     \n",
    "                                   redirect_uri=redirect_uri)\n",
    "sp = spotipy.Spotify(auth_manager=auth)\n",
    "user = sp.current_user()\n",
    "print(\"Bienvenido \" + user['display_name'])"
   ]
  },
  {
   "cell_type": "markdown",
   "id": "fc7cabf4",
   "metadata": {},
   "source": [
    "Ahora vamos a extraer las canciones que tienes guardadas en tus me gusta.\n",
    "\n",
    "<img src='https://imgmedia.larepublica.pe/1200x660/larepublica/original/2021/02/25/6038156cd9b64d607e178a18.jpg' width=300 align='left'>"
   ]
  },
  {
   "cell_type": "code",
   "execution_count": null,
   "id": "1c6925d3",
   "metadata": {},
   "outputs": [],
   "source": [
    "results = sp.current_user_saved_tracks(limit=50)\n",
    "items = results['items']\n",
    "tracks = [item['track'] for item in items]\n",
    "\n",
    "uris = [track[\"uri\"] for track in tracks]\n",
    "titles = [track['name'] for track in tracks]\n",
    "albums = [track['album']['name'] for track in tracks]\n",
    "artists = [track['artists'][0]['name'] for track in tracks]\n",
    "release_dates = [track['album']['release_date'] for track in tracks]\n",
    "years = [date[:4] if date else None for date in release_dates]\n",
    "popularities = [track['popularity'] for track in tracks]\n",
    "audio_features = sp.audio_features(uris)\n",
    "\n",
    "while results[\"next\"]:\n",
    "    results = sp.next(results)\n",
    "    items = results['items']\n",
    "    tracks = [item['track'] for item in items]\n",
    "    uris += [track[\"uri\"] for track in tracks]\n",
    "    titles += [track['name'] for track in tracks]\n",
    "    albums += [track['album']['name'] for track in tracks]\n",
    "    artists += [track['artists'][0]['name'] for track in tracks]\n",
    "    release_dates = [track['album']['release_date'] for track in tracks]\n",
    "    years += [date[:4] if date else None for date in release_dates]\n",
    "    popularities += [track['popularity'] for track in tracks]\n",
    "    audio_features += sp.audio_features([track[\"uri\"] for track in tracks])\n",
    "\n",
    "print(len(uris), \"canciones encontradas\")"
   ]
  },
  {
   "cell_type": "markdown",
   "id": "8fa00af0",
   "metadata": {},
   "source": [
    "## Limpieza de Datos"
   ]
  },
  {
   "cell_type": "markdown",
   "id": "7baf69af",
   "metadata": {},
   "source": [
    "Una vez tenemos las canciones, es necesario limpiar los datos para tenerlos de la forma que más nos conviene para el modelo. \n",
    "\n",
    "(Este paso puede tardar unos minutos)\n",
    "\n",
    "<img src='https://datascientest.com/es/wp-content/uploads/sites/7/2021/05/illu_data_cleaning_blog_2-07.png' width=300 align='left'>"
   ]
  },
  {
   "cell_type": "code",
   "execution_count": null,
   "id": "93455531",
   "metadata": {},
   "outputs": [],
   "source": [
    "print(\"Dependiendo de la cantidad de canciones, esto pude tardar unos minutos...\")\n",
    "df = pd.DataFrame(audio_features)\n",
    "df['uri'] = uris\n",
    "df['title'] = titles\n",
    "df['album'] = albums\n",
    "df['artist'] = artists\n",
    "df['year'] = years\n",
    "df['year'] = df['year'].astype(int)\n",
    "df['popularity'] = popularities\n",
    "detector = Translator()\n",
    "\n",
    "def is_spanish(text):\n",
    "    try:\n",
    "        text = text.lower().replace('remix', '')\n",
    "        text = re.sub(r'\\([^)]*\\)', '', text)\n",
    "        return detector.detect(text).lang == 'es'\n",
    "    except:\n",
    "        return False\n",
    "df['spanish'] = (df.title + ', ' + df.album).apply(is_spanish)\n",
    "df = df[['uri', 'title', 'album', 'artist', 'spanish', 'year', 'tempo', 'energy',\n",
    "         'danceability', 'loudness', 'mode', 'liveness', 'valence', 'duration_ms', \n",
    "         'acousticness', 'instrumentalness', 'speechiness', 'popularity']]\n",
    "df.head()"
   ]
  },
  {
   "cell_type": "markdown",
   "id": "12f4083a-1222-4a03-a9cc-789f82dff410",
   "metadata": {},
   "source": [
    "## Modelo\n",
    "\n",
    "<img src='https://ict.iitk.ac.in/wp-content/uploads/machine-learning-1.jpg' width=850>"
   ]
  },
  {
   "cell_type": "markdown",
   "id": "b0a74115",
   "metadata": {},
   "source": [
    "En el primer paso elegimos qué variables vamos a tomar en cuenta para el modelo."
   ]
  },
  {
   "cell_type": "code",
   "execution_count": null,
   "id": "ff5072ee-ce3d-4932-b4a5-7cbf2fec0a21",
   "metadata": {
    "executionTime": 0,
    "lastSuccessfullyExecutedCode": "vars_to_use = [\"year\", \"bpm\", \"nrgy\", \"dnce\", \"dB\", \"live\", \"live\", \"val\", \"dur\", \"acous\", \"spch\", \"pop\"]\ndf_clusters = df[vars_to_use]\nscaler = StandardScaler()\ndf_clusters = scaler.fit_transform(df_clusters)\nmodel = KMeans(random_state=18)"
   },
   "outputs": [],
   "source": [
    "vars_to_use = ['tempo', 'energy', 'danceability', 'loudness', 'mode', 'spanish',\n",
    "               'valence', 'acousticness', 'speechiness']\n",
    "df_clusters = df[vars_to_use]\n",
    "scaler = StandardScaler()\n",
    "df_clusters = scaler.fit_transform(df_clusters)"
   ]
  },
  {
   "cell_type": "markdown",
   "id": "438efd7a",
   "metadata": {},
   "source": [
    "Luego probamos el modelo con diferentes cantidades de clusters. Esto nos sirve para saber cuál es la cantidad de grupos óptima para el problema. Entre más variados sean tus gustos musicales, es más probable que la cantidad óptima de clusters sea mayor."
   ]
  },
  {
   "cell_type": "code",
   "execution_count": null,
   "id": "d19ae152-0412-481f-8fdd-ea853136ca33",
   "metadata": {
    "executionTime": 754,
    "lastSuccessfullyExecutedCode": "elbow = KElbowVisualizer(model, k=(2,11))\nelbow.fit(df_clusters)    \nelbow.show()  "
   },
   "outputs": [],
   "source": [
    "wcss = []\n",
    "silhouette_scores = []\n",
    "\n",
    "for k in range(2, 13):\n",
    "    kmeans = KMeans(n_clusters=k, random_state=18)\n",
    "    kmeans.fit(df_clusters)\n",
    "    wcss.append(kmeans.inertia_)\n",
    "    silhouette_scores.append(silhouette_score(df_clusters, kmeans.labels_))\n",
    "\n",
    "plt.plot(range(2, 13), wcss)\n",
    "plt.title('Elbow Curve')\n",
    "plt.xlabel('Number of Clusters')\n",
    "plt.ylabel('WCSS')\n",
    "plt.show()\n",
    "\n",
    "plt.plot(range(2, 13), silhouette_scores)\n",
    "plt.title('Silhouette Score')\n",
    "plt.xlabel('Number of Clusters')\n",
    "plt.ylabel('Silhouette Score')\n",
    "plt.show()"
   ]
  },
  {
   "cell_type": "markdown",
   "id": "ddc3a033",
   "metadata": {},
   "source": [
    "Es hora de correr el modelo final, veamos cuantas canciones pertenecen a cada uno de los clusters generados.\n",
    "\n",
    "<img src='https://www.unica360.com/wp-content/uploads/segmentacion_dimensiones.jpg' align='left' width=300>"
   ]
  },
  {
   "cell_type": "code",
   "execution_count": null,
   "id": "a448632b-133a-4657-bc92-bf402f235dbe",
   "metadata": {
    "executionTime": 81,
    "lastSuccessfullyExecutedCode": "model = KMeans(n_clusters=3, random_state=18)\nclusters = model.fit_predict(df_clusters)\ndf_results = df.copy()\ndf_results[\"cluster\"] = clusters"
   },
   "outputs": [],
   "source": [
    "k = int(input('Cantidad de clusters: '))\n",
    "kmeans = KMeans(n_clusters=k, random_state=18)\n",
    "clusters = kmeans.fit_predict(df_clusters)\n",
    "df_results = df.copy()\n",
    "df_results[\"cluster\"] = clusters\n",
    "df_results[\"cluster\"].value_counts()"
   ]
  },
  {
   "cell_type": "markdown",
   "id": "4fce28a1",
   "metadata": {},
   "source": [
    "Por úlitmo guardamos los resultados en un archivo csv, el cual utilizaremos en PowerBI para analizar los resultados del modelo."
   ]
  },
  {
   "cell_type": "code",
   "execution_count": null,
   "id": "6c656114",
   "metadata": {},
   "outputs": [],
   "source": [
    "df_results.to_csv(\"canciones.csv\", index=False)"
   ]
  },
  {
   "cell_type": "markdown",
   "id": "273d2547",
   "metadata": {},
   "source": [
    "## Ponle nombre a los grupos"
   ]
  },
  {
   "cell_type": "markdown",
   "id": "24a25ab2",
   "metadata": {},
   "source": [
    "Luego de haber analizado los reultados, podemos ponerle un nombre a cada grupo de canciones."
   ]
  },
  {
   "cell_type": "code",
   "execution_count": null,
   "id": "87bf4010",
   "metadata": {
    "executionTime": 1126,
    "lastSuccessfullyExecutedCode": "df_results[df_results.cluster == 0]"
   },
   "outputs": [],
   "source": [
    "nombres_playlists = []\n",
    "for i in range(k):\n",
    "    nombres_playlists.append(input(\"Nombre del cluster \" + str(i) + \": \"))\n",
    "for c, nombre in enumerate(nombres_playlists):\n",
    "    playlist = sp.user_playlist_create(user['id'], nombre, public=True)\n",
    "    tracks = df_results.uri[df_results.cluster == c].to_list()\n",
    "\n",
    "    batches = [tracks[i:i+100] for i in range(0, len(tracks), 100)]\n",
    "\n",
    "    for batch in batches:\n",
    "        sp.playlist_add_items(playlist['uri'], batch)"
   ]
  }
 ],
 "metadata": {
  "colab": {
   "name": "Welcome to DataCamp Workspaces.ipynb",
   "provenance": []
  },
  "editor": "DataCamp Workspace",
  "kernelspec": {
   "display_name": "Python 3 (ipykernel)",
   "language": "python",
   "name": "python3"
  },
  "language_info": {
   "codemirror_mode": {
    "name": "ipython",
    "version": 3
   },
   "file_extension": ".py",
   "mimetype": "text/x-python",
   "name": "python",
   "nbconvert_exporter": "python",
   "pygments_lexer": "ipython3",
   "version": "3.9.7"
  },
  "varInspector": {
   "cols": {
    "lenName": 16,
    "lenType": 16,
    "lenVar": 40
   },
   "kernels_config": {
    "python": {
     "delete_cmd_postfix": "",
     "delete_cmd_prefix": "del ",
     "library": "var_list.py",
     "varRefreshCmd": "print(var_dic_list())"
    },
    "r": {
     "delete_cmd_postfix": ") ",
     "delete_cmd_prefix": "rm(",
     "library": "var_list.r",
     "varRefreshCmd": "cat(var_dic_list()) "
    }
   },
   "types_to_exclude": [
    "module",
    "function",
    "builtin_function_or_method",
    "instance",
    "_Feature"
   ],
   "window_display": false
  }
 },
 "nbformat": 4,
 "nbformat_minor": 5
}
